{
  "nbformat": 4,
  "nbformat_minor": 0,
  "metadata": {
    "colab": {
      "provenance": [],
      "authorship_tag": "ABX9TyPltcKjw16YZV7KCXz7GBtl",
      "include_colab_link": true
    },
    "kernelspec": {
      "name": "python3",
      "display_name": "Python 3"
    },
    "language_info": {
      "name": "python"
    }
  },
  "cells": [
    {
      "cell_type": "markdown",
      "metadata": {
        "id": "view-in-github",
        "colab_type": "text"
      },
      "source": [
        "<a href=\"https://colab.research.google.com/github/alex-antonison-mtsu/demo-notebooks/blob/main/pittsburgh_data_analysis_demo.ipynb\" target=\"_parent\"><img src=\"https://colab.research.google.com/assets/colab-badge.svg\" alt=\"Open In Colab\"/></a>"
      ]
    },
    {
      "cell_type": "code",
      "source": [
        "!pip install skimpy==0.0.5"
      ],
      "metadata": {
        "id": "Ss4XuH1L_dQL"
      },
      "execution_count": null,
      "outputs": []
    },
    {
      "cell_type": "code",
      "source": [
        "from google.colab import files\n",
        "\n",
        "uploaded = files.upload()\n",
        "\n",
        "for fn in uploaded.keys():\n",
        "  print('User uploaded file \"{name}\" with length {length} bytes'.format(\n",
        "      name=fn, length=len(uploaded[fn])))"
      ],
      "metadata": {
        "id": "ZJXDsMwUF4qK"
      },
      "execution_count": null,
      "outputs": []
    },
    {
      "cell_type": "code",
      "execution_count": null,
      "metadata": {
        "id": "372-swnEaI2A"
      },
      "outputs": [],
      "source": [
        "import pandas as pd\n",
        "import skimpy\n",
        "import numpy as np\n",
        "import datetime\n",
        "from plotnine import ggplot, geom_point, aes, stat_smooth, facet_wrap, theme, element_text, ylim"
      ]
    },
    {
      "cell_type": "code",
      "source": [
        "df_src = pd.read_csv(\"demo-sensor-data.csv\", low_memory=False)\n",
        "df_src.head()"
      ],
      "metadata": {
        "id": "eoPa0-wBa9Tc"
      },
      "execution_count": null,
      "outputs": []
    },
    {
      "cell_type": "code",
      "source": [
        "df_src_clean_column = skimpy.clean_columns(df_src)\n",
        "df_src_clean_column[\"field_date_et\"] = pd.to_datetime(df_src_clean_column[\"field_date_time_et\"]).dt.date\n",
        "df_src_clean_column.head()"
      ],
      "metadata": {
        "id": "zZn2avCOIC29"
      },
      "execution_count": null,
      "outputs": []
    },
    {
      "cell_type": "code",
      "source": [
        "df_src_mean = df_src_clean_column.groupby(by=[\"area_of_concern\", \"parameter\", \"manufacturer_sensor\", \"station_name\", \"site_name\", \"field_date_et\"]).mean()\n",
        "df_src_mean = df_src_mean.reset_index()\n",
        "df_src_mean.head()"
      ],
      "metadata": {
        "id": "R-VqhoqX9kd-"
      },
      "execution_count": null,
      "outputs": []
    },
    {
      "cell_type": "code",
      "source": [
        "df_pivot = pd.pivot_table(df_src_mean, index=[\"area_of_concern\", \"manufacturer_sensor\", \"site_name\", \"station_name\", \"field_date_et\"], columns=\"parameter\", values=\"value\")\n",
        "df_pivot = df_pivot.reset_index()\n",
        "df_pivot_clean = skimpy.clean_columns(df_pivot)\n",
        "df_pivot_clean.head()"
      ],
      "metadata": {
        "id": "agreZbBHJAb6"
      },
      "execution_count": null,
      "outputs": []
    },
    {
      "cell_type": "code",
      "source": [
        "#@title Parameter Input\n",
        "#@markdown Please type in a parameter seen above\n",
        "\n",
        "parameter_input = 'dissolved_oxygen_%'  #@param {type: \"string\"}\n",
        "#@markdown ---"
      ],
      "metadata": {
        "cellView": "form",
        "id": "oqY3IYKUEgI_"
      },
      "execution_count": null,
      "outputs": []
    },
    {
      "cell_type": "code",
      "source": [
        "list(df_pivot_clean[~np.isnan(df_pivot_clean[parameter_input])][\"station_name\"].unique())"
      ],
      "metadata": {
        "id": "aKbnOKI8AaUC"
      },
      "execution_count": null,
      "outputs": []
    },
    {
      "cell_type": "code",
      "source": [
        "#@title Station Name Input\n",
        "#@markdown Please copy and paste a Station Name seen above\n",
        "\n",
        "station_name_input = 'DMR10'  #@param {type: \"string\"}\n",
        "#@markdown ---"
      ],
      "metadata": {
        "cellView": "form",
        "id": "n0IfZIquCLfs"
      },
      "execution_count": null,
      "outputs": []
    },
    {
      "cell_type": "code",
      "source": [
        "df_data_vis = df_pivot_clean[(df_pivot_clean[\"station_name\"] == station_name_input) & (~np.isnan(df_pivot_clean[parameter_input]))]\n",
        "df_data_vis.shape"
      ],
      "metadata": {
        "id": "Bl1AIrai7vbF"
      },
      "execution_count": null,
      "outputs": []
    },
    {
      "cell_type": "code",
      "source": [
        "(ggplot(df_data_vis, aes('field_date_et', parameter_input, color='station_name'))\n",
        " + geom_point()\n",
        " + theme(axis_text_x=element_text(rotation=75, hjust=1))\n",
        " + aes(ymin=0))"
      ],
      "metadata": {
        "id": "2mrK5nb77iZZ"
      },
      "execution_count": null,
      "outputs": []
    },
    {
      "cell_type": "code",
      "source": [
        "print(f\"field_date_et values between {min(df_data_vis['field_date_et'])} and {max(df_data_vis['field_date_et'])}\")"
      ],
      "metadata": {
        "id": "F1ZreXOQNw-0"
      },
      "execution_count": null,
      "outputs": []
    },
    {
      "cell_type": "code",
      "source": [
        "#@title Please select a min and max date between the values above\n",
        "#@markdown Date Selector\n",
        "\n",
        "min_date = '2021-08-10'  #@param {type: \"date\"}\n",
        "min_date_param = datetime.datetime.strptime(min_date, \"%Y-%m-%d\").date()\n",
        "\n",
        "max_date = '2021-09-10'  #@param {type: \"date\"}\n",
        "max_date_param = datetime.datetime.strptime(max_date, \"%Y-%m-%d\").date()\n",
        "\n",
        "#@markdown ---"
      ],
      "metadata": {
        "cellView": "form",
        "id": "X6C7dFK9OtUw"
      },
      "execution_count": null,
      "outputs": []
    },
    {
      "cell_type": "code",
      "source": [
        "df_data_vis_date_filtered = df_data_vis[(df_data_vis[\"field_date_et\"] >= min_date_param) & (df_data_vis[\"field_date_et\"] <= max_date_param)]\n",
        "\n",
        "(ggplot(df_data_vis_date_filtered, aes('field_date_et', parameter_input, color='station_name'))\n",
        " + geom_point()\n",
        " + theme(axis_text_x=element_text(rotation=75, hjust=1))\n",
        " + aes(ymin=0))"
      ],
      "metadata": {
        "id": "WUm7-VFiPXmq"
      },
      "execution_count": null,
      "outputs": []
    }
  ]
}