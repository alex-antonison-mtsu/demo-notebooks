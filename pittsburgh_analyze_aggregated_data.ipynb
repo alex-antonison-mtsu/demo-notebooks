{
  "nbformat": 4,
  "nbformat_minor": 0,
  "metadata": {
    "colab": {
      "provenance": [],
      "collapsed_sections": [],
      "authorship_tag": "ABX9TyNWAcB/tAyAlfXFYGioKkJO",
      "include_colab_link": true
    },
    "kernelspec": {
      "name": "python3",
      "display_name": "Python 3"
    },
    "language_info": {
      "name": "python"
    }
  },
  "cells": [
    {
      "cell_type": "markdown",
      "metadata": {
        "id": "view-in-github",
        "colab_type": "text"
      },
      "source": [
        "<a href=\"https://colab.research.google.com/github/alex-antonison-mtsu/demo-notebooks/blob/main/pittsburgh_analyze_aggregated_data.ipynb\" target=\"_parent\"><img src=\"https://colab.research.google.com/assets/colab-badge.svg\" alt=\"Open In Colab\"/></a>"
      ]
    },
    {
      "cell_type": "markdown",
      "source": [
        "# Welcome to my Demo Notebook!\n",
        "\n",
        "You Need to run the first cell below to install an additional package and then select `RESTART RUNTIME` so that package can be loaded into the environment. After you restart the runtime, it will not harm anything if you re-run the cell."
      ],
      "metadata": {
        "id": "HDbR2VlHCVgx"
      }
    },
    {
      "cell_type": "code",
      "execution_count": null,
      "metadata": {
        "id": "tYy5bsW5BDSA"
      },
      "outputs": [],
      "source": [
        "%pip install skimpy==0.0.5"
      ]
    },
    {
      "cell_type": "code",
      "source": [
        "import pandas as pd\n",
        "import skimpy\n",
        "import numpy as np\n",
        "import datetime\n",
        "from plotnine import ggplot, geom_point, aes, stat_smooth, facet_wrap, theme, element_text, ylim"
      ],
      "metadata": {
        "id": "teZvdQ-d46a8"
      },
      "execution_count": null,
      "outputs": []
    },
    {
      "cell_type": "code",
      "source": [
        "from google.colab import files\n",
        "\n",
        "uploaded = files.upload()\n",
        "\n",
        "for fn in uploaded.keys():\n",
        "  print('User uploaded file \"{name}\" with length {length} bytes'.format(\n",
        "      name=fn, length=len(uploaded[fn])))"
      ],
      "metadata": {
        "id": "D6I1wkxfBQLG"
      },
      "execution_count": null,
      "outputs": []
    },
    {
      "cell_type": "code",
      "source": [
        "# read in the uploaded file into a pandas dataframe\n",
        "df_src = pd.read_csv(fn, low_memory=False)\n",
        "df_src.head()"
      ],
      "metadata": {
        "id": "mjTWHjEHDdmr"
      },
      "execution_count": null,
      "outputs": []
    },
    {
      "cell_type": "code",
      "source": [
        "# skimpy.clean_columns() is a method that cleans up columns in a dataframe\n",
        "# to make it easier to work with\n",
        "df_src_clean_column = skimpy.clean_columns(df_src)\n",
        "# removes the time from field_date_time_et\n",
        "df_src_clean_column[\"field_date_et\"] = pd.to_datetime(df_src_clean_column[\"field_date_et\"]).dt.date\n",
        "df_src_clean_column.head()"
      ],
      "metadata": {
        "id": "A1XM97pCD6hf"
      },
      "execution_count": null,
      "outputs": []
    },
    {
      "cell_type": "code",
      "source": [
        "df_pivot = pd.pivot_table(df_src_clean_column, index=[\"area_of_concern\", \"manufacturer_sensor\", \"site_name\", \"station_name\", \"field_date_et\"], columns=\"parameter\", values=\"average\")\n",
        "df_pivot = df_pivot.reset_index()\n",
        "df_pivot_clean = skimpy.clean_columns(df_pivot)\n",
        "\n",
        "site_columns = [\"area_of_concern\", \"manufacturer_sensor\", \"site_name\", \"station_name\", \"field_date_et\"]\n",
        "\n",
        "for column in df_pivot_clean.columns:\n",
        "  if column not in site_columns:\n",
        "    df_pivot_clean = df_pivot_clean.rename(columns={column: column + \"_average\"})\n",
        "\n",
        "df_pivot_clean.head()"
      ],
      "metadata": {
        "id": "2L5JEDyYEJuT"
      },
      "execution_count": null,
      "outputs": []
    },
    {
      "cell_type": "code",
      "source": [
        "#@title Parameter Input\n",
        "#@markdown Please type in a parameter seen above\n",
        "\n",
        "parameter_input = 'p_h_average'  #@param {type: \"string\"}\n",
        "#@markdown ---"
      ],
      "metadata": {
        "id": "rn58S_RyIEKT"
      },
      "execution_count": null,
      "outputs": []
    },
    {
      "cell_type": "code",
      "source": [
        "df_data_vis = df_pivot_clean[(~np.isnan(df_pivot_clean[parameter_input]))]\n",
        "df_data_vis.shape"
      ],
      "metadata": {
        "id": "9nvvqZgEH3mQ"
      },
      "execution_count": null,
      "outputs": []
    },
    {
      "cell_type": "code",
      "source": [
        "list(df_pivot_clean[~np.isnan(df_pivot_clean[parameter_input])][\"station_name\"].unique())"
      ],
      "metadata": {
        "id": "BzsUG06VIKQT"
      },
      "execution_count": null,
      "outputs": []
    },
    {
      "cell_type": "code",
      "source": [
        "#@title Station Name Input\n",
        "#@markdown Please copy and paste a Station Name seen above\n",
        "\n",
        "station_name_input = 'STR02'  #@param {type: \"string\"}\n",
        "#@markdown ---"
      ],
      "metadata": {
        "id": "fe_Nwt2EILP7"
      },
      "execution_count": null,
      "outputs": []
    },
    {
      "cell_type": "code",
      "source": [
        "df_data_vis = df_pivot_clean[(df_pivot_clean[\"station_name\"] == station_name_input) & (~np.isnan(df_pivot_clean[parameter_input]))]\n",
        "df_data_vis.shape"
      ],
      "metadata": {
        "id": "YkFeHJBIIUXh"
      },
      "execution_count": null,
      "outputs": []
    },
    {
      "cell_type": "code",
      "source": [
        "(ggplot(df_data_vis, aes('field_date_et', parameter_input, color='station_name'))\n",
        " + geom_point()\n",
        " + theme(axis_text_x=element_text(rotation=90, hjust=1))\n",
        " + aes(ymin=0))"
      ],
      "metadata": {
        "id": "iMqjJDtXHCvv"
      },
      "execution_count": null,
      "outputs": []
    }
  ]
}